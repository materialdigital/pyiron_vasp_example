{
 "cells": [
  {
   "cell_type": "markdown",
   "id": "6373ef02-35c0-4c2a-ba72-c793ff7f8a37",
   "metadata": {
    "tags": []
   },
   "source": [
    "# Running a VASP job in pyiron\n",
    "\n",
    "Important: This assumes that you will have configured VASP already - this notebook _doesn't_ work out of the box\n",
    "\n",
    "If you haven't, configure here:\n",
    "\n",
    "https://pyiron.readthedocs.io/en/latest/source/installation.html"
   ]
  },
  {
   "cell_type": "code",
   "execution_count": 1,
   "id": "923e12fd-31ff-4e87-b954-c4605e34156c",
   "metadata": {},
   "outputs": [
    {
     "data": {
      "application/vnd.jupyter.widget-view+json": {
       "model_id": "a3a76186116144099ca4bd6770f97944",
       "version_major": 2,
       "version_minor": 0
      },
      "text/plain": []
     },
     "metadata": {},
     "output_type": "display_data"
    }
   ],
   "source": [
    "from pyiron.project import Project"
   ]
  },
  {
   "cell_type": "code",
   "execution_count": 2,
   "id": "00f54ff0-aadc-4ccd-a57b-25cbcadf7a20",
   "metadata": {},
   "outputs": [],
   "source": [
    "pr = Project(\"run_vasp_calc\")"
   ]
  },
  {
   "cell_type": "code",
   "execution_count": 3,
   "id": "885e5509-7d68-4014-a42f-aaebf60283d5",
   "metadata": {},
   "outputs": [],
   "source": [
    "structure = pr.create.structure.ase.bulk(\"Fe\",crystalstructure=\"bcc\", cubic=True)*[2,2,2]"
   ]
  },
  {
   "cell_type": "code",
   "execution_count": 4,
   "id": "d0915da3-06b9-4480-9b44-f2e2bc69c922",
   "metadata": {},
   "outputs": [
    {
     "name": "stdout",
     "output_type": "stream",
     "text": [
      "16\n"
     ]
    }
   ],
   "source": [
    "print(len(structure))"
   ]
  },
  {
   "cell_type": "code",
   "execution_count": 5,
   "id": "6b37024d-ba08-4e01-b028-ace358c53470",
   "metadata": {},
   "outputs": [],
   "source": [
    "job = pr.create_job(job_type=pr.job_type.Vasp, job_name = \"bcc_Fe_16_atoms\")\n",
    "\n",
    "# Set the structure\n",
    "job.structure = structure\n",
    "\n",
    "# Set gamma-centered mesh of 2, 2, 2 subdivisions\n",
    "job.set_kpoints(mesh=[2, 2, 2], scheme = \"GC\")\n",
    "\n",
    "# Set/adjust incar flags\n",
    "job.input.incar['EDIFF'] = 1E-7\n",
    "job.input.incar['EDIFFG'] = -1E-2\n",
    "\n",
    "# Set your queue that you already configured in installation (queue.yaml)\n",
    "job.server.queue = \"cmti\"\n",
    "job.server.cores = 40\n",
    "job.executable = \"5.4.4_mpi\""
   ]
  },
  {
   "cell_type": "code",
   "execution_count": 6,
   "id": "2f000ea2-152e-4bf3-83b7-8941816be228",
   "metadata": {},
   "outputs": [
    {
     "name": "stdout",
     "output_type": "stream",
     "text": [
      "The job bcc_Fe_16_atoms was saved and received the ID: 20407761\n",
      "Queue system id:  5874931\n"
     ]
    }
   ],
   "source": [
    "job.run(run_mode=\"queue\", delete_existing_job=True)"
   ]
  },
  {
   "cell_type": "code",
   "execution_count": 7,
   "id": "ecbb845d-3914-4b8d-b365-ad4d05abafbf",
   "metadata": {},
   "outputs": [
    {
     "data": {
      "text/html": [
       "<div>\n",
       "<style scoped>\n",
       "    .dataframe tbody tr th:only-of-type {\n",
       "        vertical-align: middle;\n",
       "    }\n",
       "\n",
       "    .dataframe tbody tr th {\n",
       "        vertical-align: top;\n",
       "    }\n",
       "\n",
       "    .dataframe thead th {\n",
       "        text-align: right;\n",
       "    }\n",
       "</style>\n",
       "<table border=\"1\" class=\"dataframe\">\n",
       "  <thead>\n",
       "    <tr style=\"text-align: right;\">\n",
       "      <th></th>\n",
       "      <th>id</th>\n",
       "      <th>status</th>\n",
       "      <th>chemicalformula</th>\n",
       "      <th>job</th>\n",
       "      <th>subjob</th>\n",
       "      <th>projectpath</th>\n",
       "      <th>project</th>\n",
       "      <th>timestart</th>\n",
       "      <th>timestop</th>\n",
       "      <th>totalcputime</th>\n",
       "      <th>computer</th>\n",
       "      <th>hamilton</th>\n",
       "      <th>hamversion</th>\n",
       "      <th>parentid</th>\n",
       "      <th>masterid</th>\n",
       "    </tr>\n",
       "  </thead>\n",
       "  <tbody>\n",
       "    <tr>\n",
       "      <th>0</th>\n",
       "      <td>20407761</td>\n",
       "      <td>submitted</td>\n",
       "      <td>Fe16</td>\n",
       "      <td>bcc_Fe_16_atoms</td>\n",
       "      <td>/bcc_Fe_16_atoms</td>\n",
       "      <td>/cmmc/u/</td>\n",
       "      <td>hmai/MaterialDigital/run_vasp_calc/</td>\n",
       "      <td>2023-07-31 12:59:07.119963</td>\n",
       "      <td>None</td>\n",
       "      <td>None</td>\n",
       "      <td>hmai@cmti001#40#cmti</td>\n",
       "      <td>Vasp</td>\n",
       "      <td>5.4.4_mpi</td>\n",
       "      <td>None</td>\n",
       "      <td>None</td>\n",
       "    </tr>\n",
       "  </tbody>\n",
       "</table>\n",
       "</div>"
      ],
      "text/plain": [
       "         id     status chemicalformula              job            subjob  \\\n",
       "0  20407761  submitted            Fe16  bcc_Fe_16_atoms  /bcc_Fe_16_atoms   \n",
       "\n",
       "  projectpath                              project                  timestart  \\\n",
       "0    /cmmc/u/  hmai/MaterialDigital/run_vasp_calc/ 2023-07-31 12:59:07.119963   \n",
       "\n",
       "  timestop totalcputime              computer hamilton hamversion parentid  \\\n",
       "0     None         None  hmai@cmti001#40#cmti     Vasp  5.4.4_mpi     None   \n",
       "\n",
       "  masterid  \n",
       "0     None  "
      ]
     },
     "execution_count": 7,
     "metadata": {},
     "output_type": "execute_result"
    }
   ],
   "source": [
    "pr.job_table()"
   ]
  },
  {
   "cell_type": "code",
   "execution_count": 8,
   "id": "3ba0408d-0d4b-4898-9417-0616b254370e",
   "metadata": {},
   "outputs": [
    {
     "data": {
      "text/plain": [
       "array([-121.96485025])"
      ]
     },
     "execution_count": 8,
     "metadata": {},
     "output_type": "execute_result"
    }
   ],
   "source": [
    "job.output.energy_tot"
   ]
  },
  {
   "cell_type": "markdown",
   "id": "24e6061b-3a44-4e1e-8463-0f247f8da3d1",
   "metadata": {
    "tags": []
   },
   "source": [
    "## Accessing job output\n",
    "\n",
    "If we want to look at the raw output files, we can!\n",
    "\n",
    "Access the stored output in the HDF5 file in \"inspect\" mode via calling \n",
    "\n",
    "job[\"YOUR_OUTPUT_FILE\"]"
   ]
  },
  {
   "cell_type": "code",
   "execution_count": 9,
   "id": "98b56338-acdd-43e6-9517-5932d5b6c622",
   "metadata": {
    "tags": []
   },
   "outputs": [
    {
     "data": {
      "text/plain": [
       "[' vasp.5.4.4.18Apr17-6-g9f103f2a35 (build Feb 19 2020 16:12:31) complex          \\n',\n",
       " '  \\n',\n",
       " ' executed on             LinuxIFC date 2023.07.31  14:03:57\\n',\n",
       " ' running on   40 total cores\\n',\n",
       " ' distrk:  each k-point on   40 cores,    1 groups\\n',\n",
       " ' distr:  one band on NCORES_PER_BAND=   1 cores,   40 groups\\n',\n",
       " '\\n',\n",
       " '\\n',\n",
       " '--------------------------------------------------------------------------------------------------------\\n',\n",
       " '\\n',\n",
       " '\\n',\n",
       " ' INCAR:\\n',\n",
       " ' POTCAR:    PAW_PBE Fe 06Sep2000                  \\n',\n",
       " '\\n',\n",
       " ' ----------------------------------------------------------------------------- \\n',\n",
       " '|                                                                             |\\n',\n",
       " '|           W    W    AA    RRRRR   N    N  II  N    N   GGGG   !!!           |\\n',\n",
       " '|           W    W   A  A   R    R  NN   N  II  NN   N  G    G  !!!           |\\n',\n",
       " '|           W    W  A    A  R    R  N N  N  II  N N  N  G       !!!           |\\n',\n",
       " '|           W WW W  AAAAAA  RRRRR   N  N N  II  N  N N  G  GGG   !            |\\n']"
      ]
     },
     "execution_count": 9,
     "metadata": {},
     "output_type": "execute_result"
    }
   ],
   "source": [
    "job[\"OUTCAR\"][:20]"
   ]
  },
  {
   "cell_type": "markdown",
   "id": "59ba01bf-48ba-428f-a60b-997f356fb7b5",
   "metadata": {
    "tags": []
   },
   "source": [
    "We usually store the most important outputs in hdf5\n",
    "\n",
    "Access and navigate the stored information using the same syntax"
   ]
  },
  {
   "cell_type": "code",
   "execution_count": 10,
   "id": "af679e7d-dcac-4cbe-941a-ebccea971a12",
   "metadata": {},
   "outputs": [
    {
     "data": {
      "text/plain": [
       "{'groups': ['charge_density', 'electronic_structure', 'generic', 'outcar', 'structure'], 'nodes': ['description']}"
      ]
     },
     "execution_count": 10,
     "metadata": {},
     "output_type": "execute_result"
    }
   ],
   "source": [
    "job['output']"
   ]
  },
  {
   "cell_type": "code",
   "execution_count": 11,
   "id": "f07925c6-2f24-4a6d-bb35-15390012ebaa",
   "metadata": {},
   "outputs": [
    {
     "data": {
      "text/plain": [
       "{'groups': ['dft'], 'nodes': ['cells', 'elastic_constants', 'energy_pot', 'energy_tot', 'forces', 'positions', 'pressures', 'steps', 'stresses', 'temperature', 'volume']}"
      ]
     },
     "execution_count": 11,
     "metadata": {},
     "output_type": "execute_result"
    }
   ],
   "source": [
    "job['output/generic/']"
   ]
  },
  {
   "cell_type": "code",
   "execution_count": 12,
   "id": "0f653f1a-8db5-4a40-8fa7-f6892de47dc8",
   "metadata": {},
   "outputs": [
    {
     "data": {
      "text/plain": [
       "(array([-121.96485025]),\n",
       " array([[[-0., -0.,  0.],\n",
       "         [-0., -0., -0.],\n",
       "         [ 0., -0., -0.],\n",
       "         [-0., -0., -0.],\n",
       "         [ 0.,  0.,  0.],\n",
       "         [-0.,  0.,  0.],\n",
       "         [ 0., -0.,  0.],\n",
       "         [ 0.,  0.,  0.],\n",
       "         [ 0.,  0.,  0.],\n",
       "         [-0.,  0., -0.],\n",
       "         [-0.,  0.,  0.],\n",
       "         [ 0.,  0.,  0.],\n",
       "         [-0., -0., -0.],\n",
       "         [-0., -0.,  0.],\n",
       "         [ 0., -0., -0.],\n",
       "         [ 0., -0., -0.]]]))"
      ]
     },
     "execution_count": 12,
     "metadata": {},
     "output_type": "execute_result"
    }
   ],
   "source": [
    "# Let's look at the energy_tot and forces\n",
    "energy, forces = job['output/generic/energy_tot'], job['output/generic/forces']\n",
    "energy, forces"
   ]
  }
 ],
 "metadata": {
  "kernelspec": {
   "display_name": "Python 3",
   "language": "python",
   "name": "python3"
  },
  "language_info": {
   "codemirror_mode": {
    "name": "ipython",
    "version": 3
   },
   "file_extension": ".py",
   "mimetype": "text/x-python",
   "name": "python",
   "nbconvert_exporter": "python",
   "pygments_lexer": "ipython3",
   "version": "3.10.8"
  }
 },
 "nbformat": 4,
 "nbformat_minor": 5
}
